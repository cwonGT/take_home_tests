{
 "cells": [
  {
   "cell_type": "markdown",
   "id": "4b8f55b4",
   "metadata": {},
   "source": [
    "# IMPORTS"
   ]
  },
  {
   "cell_type": "code",
   "execution_count": null,
   "id": "2cbf0aef",
   "metadata": {},
   "outputs": [],
   "source": [
    "# imports \n",
    "\n",
    "import pandas as pd\n",
    "import numpy as np\n",
    "\n",
    "import scipy\n",
    "import scipy.stats as ss\n",
    "from scipy.stats import pareto\n",
    "\n",
    "import matplotlib\n",
    "import matplotlib.pyplot as plt\n",
    "import matplotlib.mlab as mlab\n",
    "\n",
    "import matplotlib.ticker as ticker\n",
    "from matplotlib.ticker import PercentFormatter\n",
    "from matplotlib.ticker import FormatStrFormatter\n",
    "\n",
    "from sklearn import preprocessing\n",
    "from sklearn.linear_model import LogisticRegression\n",
    "from sklearn.model_selection import train_test_split\n",
    "\n",
    "from collections import Counter\n",
    "\n",
    "import seaborn as sns\n",
    "sns.set(style=\"white\")\n",
    "sns.set(style=\"whitegrid\", color_codes=True)"
   ]
  },
  {
   "cell_type": "markdown",
   "id": "1a2ce489",
   "metadata": {},
   "source": [
    "# Graph parameters\n",
    "- figure out the purpose of ax and plt show or fig etc.\n",
    "    - do I need to take a course on how to use matplotlib from kaggle or something"
   ]
  },
  {
   "cell_type": "code",
   "execution_count": null,
   "id": "3fda56c1",
   "metadata": {},
   "outputs": [],
   "source": [
    "# control size of each \n",
    "SMALL_SIZE = 12\n",
    "MEDIUM_SIZE = 16\n",
    "BIGGER_SIZE = 18\n",
    "\n",
    "plt.rc('font', size=SMALL_SIZE)          # controls default text sizes\n",
    "plt.rc('axes', titlesize=BIGGER_SIZE)    # fontsize of the axes title\n",
    "plt.rc('axes', labelsize=BIGGER_SIZE)    # fontsize of the x and y labels\n",
    "plt.rc('xtick', labelsize=SMALL_SIZE)    # fontsize of the tick labels\n",
    "plt.rc('ytick', labelsize=SMALL_SIZE)    # fontsize of the tick labels\n",
    "plt.rc('legend', fontsize=SMALL_SIZE)    # legend fontsize\n",
    "plt.rc('figure', titlesize=BIGGER_SIZE)\n",
    "\n",
    "# whitespace controller\n",
    "plt.rcParams['axes.xmargin'] = 0\n",
    "plt.rcParams['axes.ymargin'] = 0"
   ]
  },
  {
   "cell_type": "markdown",
   "id": "2564f70b",
   "metadata": {},
   "source": [
    "# Read in csvs \n",
    "- what was that glob thing i did for research project?"
   ]
  },
  {
   "cell_type": "code",
   "execution_count": null,
   "id": "34db9f95",
   "metadata": {},
   "outputs": [],
   "source": [
    "df = pd.read_csv(\"df.csv\")\n",
    "\n",
    "display(df.info(memory_usage=\"deep\"), df.head())"
   ]
  },
  {
   "cell_type": "markdown",
   "id": "ee6040c4",
   "metadata": {},
   "source": [
    "# Functions"
   ]
  },
  {
   "cell_type": "code",
   "execution_count": null,
   "id": "78050366",
   "metadata": {},
   "outputs": [],
   "source": [
    "# see a column\n",
    "accident_2017['accident_reference']\n",
    "\n",
    "# see multiple columns\n",
    "accident_2017[['accident_index', 'first_road_class', 'first_road_number', 'second_road_class', 'first_road_number']]\n",
    "\n",
    "# count values in a column\n",
    "accident_2017['accident_reference'].value_counts() \n",
    "\n",
    "# get range of dates into a new dataframe, copy to create a fresh instance of the dataset that isnt a slice \n",
    "accident_2005_2021 = accident_79_21[accident_79_21.accident_year.isin(range(2005,2022))].copy()\n",
    "\n",
    "# search a df to return a row\n",
    "accident_severe_05_20 = accident_2005_2021[accident_2005_2021.accident_severity == 3]\n",
    "\n",
    "# group by a column and sum then rename the count column\n",
    "date_counts = accident_2005_2021.groupby(['date'])['date'].count().reset_index(name='counts')\n",
    "\n",
    "# group by year, then group by month and then count month occurences to get counts on each month of every year\n",
    "month_counts = accident_2005_2021.groupby(['month','year'])['month'].count().reset_index(name='counts')\n",
    "\n",
    "# shape of df \n",
    "severity_3.shape\n",
    "\n",
    "# split date into months etc.\n",
    "accident_2005_2021['day'] = accident_2005_2021['date'].dt.day\n",
    "accident_2005_2021['month'] = accident_2005_2021['date'].dt.month\n",
    "accident_2005_2021['year'] = accident_2005_2021['date'].dt.year\n",
    "\n",
    "# read pkl\n",
    "accident_79_21 = pd.read_pickle('accident_79_21.pkl')\n",
    "\n",
    "# concatenate dataframes\n",
    "accidents_concat = pd.concat([accident_2017, accident_2018, accident_2019], ignore_index=True)\n",
    "\n",
    "# convert column to a type\n",
    "accidents_concat['accident_index'] = accidents_concat['accident_index'].astype(str)\n",
    "\n",
    "# explore the null locations for a variable, see what cols it impacts \n",
    "accidents_concat[['accident_index','accident_severity','number_of_casualties','longitude']].query(\"longitude != longitude\").value_counts('accident_severity')\n",
    "\n",
    "# drop columns\n",
    "accidents_concat = accidents_concat.drop(columns=['junction_control', 'second_road_class', 'second_road_number'])\n",
    "\n",
    "# query ultra powerful I like this a lot\n",
    "accidents_concat.query(\"accident_index == 2017010001708\")\n",
    "\n",
    "# dataframe join\n",
    "df3 = pd.merge(df1, df2, how='left', left_on ='accident_index', right_on ='accident_index')\n",
    "\n",
    "# view nulls \n",
    "main_accident_set.isnull().sum(axis = 0)\n",
    "\n",
    "\n",
    "\n",
    "\n",
    "\n",
    "\n"
   ]
  },
  {
   "cell_type": "markdown",
   "id": "1ea778d5",
   "metadata": {},
   "source": [
    "# bar plots\n",
    "- sns colour schemes"
   ]
  },
  {
   "cell_type": "code",
   "execution_count": null,
   "id": "b6672d88",
   "metadata": {},
   "outputs": [],
   "source": [
    "# sns countplot like a bar chart\n",
    "\n",
    "ax = sns.countplot(x=\"accident_year\", \n",
    "                   data=accident_2005_2021\n",
    "                  )\n",
    "plt.xticks(rotation=45)"
   ]
  },
  {
   "cell_type": "code",
   "execution_count": null,
   "id": "7fffb4f4",
   "metadata": {},
   "outputs": [],
   "source": [
    "# matplotlib bar chart\n",
    "\n",
    "accident_2005_2021['accident_year'].value_counts(sort = False).plot(kind='bar')\n",
    "\n",
    "# alternative to retain index order e.g. years or months\n",
    "accident_severe_1_05_20['accident_year'].value_counts().sort_index().plot(kind='bar')\n",
    "\n",
    "plt.xlabel(\"Year\")\n",
    "plt.ylabel(\"Count of Accidents\")\n",
    "plt.title(\"Count of Road Accidents per Year\")\n",
    "plt.xticks(rotation=45)\n"
   ]
  },
  {
   "cell_type": "markdown",
   "id": "8b1d1292",
   "metadata": {},
   "source": [
    "# data cleaning"
   ]
  },
  {
   "cell_type": "code",
   "execution_count": null,
   "id": "ebf25aef",
   "metadata": {},
   "outputs": [],
   "source": [
    "# format the date if its a string\n",
    "accident_2005_2021['date'] = pd.to_datetime(accident_2005_2021['date'], format = '%d/%m/%Y')\n",
    "\n",
    "# handle nulls,  - careful need to check again\n",
    "accidents_concat.replace(-1, np.NaN, inplace=True)\n",
    "accidents_concat.isnull().sum(axis = 0)"
   ]
  },
  {
   "cell_type": "markdown",
   "id": "7a19e382",
   "metadata": {},
   "source": [
    "# Time series analysis "
   ]
  },
  {
   "cell_type": "code",
   "execution_count": null,
   "id": "cbd97eea",
   "metadata": {},
   "outputs": [],
   "source": [
    "# trends through the year, counts on each day plotted out \n",
    "\n",
    "plt.figure(figsize=(30,8))\n",
    "sns.lineplot(data=date_counts, \n",
    "             x='date', \n",
    "             y='counts');\n",
    "\n",
    "plt.savefig('trend05_22.jpeg', bbox_inches=\"tight\")"
   ]
  },
  {
   "cell_type": "code",
   "execution_count": null,
   "id": "b0589686",
   "metadata": {},
   "outputs": [],
   "source": [
    "# month seasonality plot\n",
    "\n",
    "# plot accidents by month for 2017, 2018, 2019 \n",
    "# requires counts in month \n",
    "sns.lineplot(data=month_counts, \n",
    "             x='month', \n",
    "             y='counts', \n",
    "             hue='year', \n",
    "             legend='full')\n",
    "\n",
    "# add title\n",
    "plt.title('Seasonal plot')\n",
    "\n",
    "# move the legend outside of the main figure\n",
    "plt.legend(bbox_to_anchor=(1.05, 1), loc=2);\n",
    "\n",
    "plt.savefig('trend05_22_months.jpeg', bbox_inches=\"tight\")"
   ]
  },
  {
   "cell_type": "code",
   "execution_count": null,
   "id": "9c25ef88",
   "metadata": {},
   "outputs": [],
   "source": [
    "# heatmap day and time\n",
    "\n",
    "# split time out into hours \n",
    "accident_2005_2021['time_hour'] = accident_2005_2021.apply(lambda x: str(x.time).split(':')[0], axis=1)\n",
    "\n",
    "# get count of hour \n",
    "d_t_table = accident_2005_2021['time_hour'].groupby([accident_2005_2021.day_of_week, accident_2005_2021.time_hour]).count()\n",
    "\n",
    "# extra processing step to get day into format for heatmap - what is unstack?\n",
    "d_t_table = d_t_table.rename_axis(['day_of_week', 'time_hour']).unstack('day_of_week')\n",
    "\n",
    "# re index table to days of the week - does this work?\n",
    "day_of_week = ['Monday', 'Tuesday', 'Wednesday', 'Thursday', 'Friday', 'Saturday', 'Sunday']\n",
    "d_t_table = d_t_table.reindex(day_of_week)\n",
    "\n",
    "# plot heatmap\n",
    "sns.heatmap(data = d_t_table)\n",
    "plt.savefig('trend05_22_heatmap.jpeg', bbox_inches=\"tight\")"
   ]
  },
  {
   "cell_type": "code",
   "execution_count": null,
   "id": "17736e1f",
   "metadata": {},
   "outputs": [],
   "source": []
  },
  {
   "cell_type": "markdown",
   "id": "1d7f616f",
   "metadata": {},
   "source": [
    "# use a lookup table to decipher integer replacements and use in a bar chart"
   ]
  },
  {
   "cell_type": "code",
   "execution_count": null,
   "id": "6379e49b",
   "metadata": {},
   "outputs": [],
   "source": [
    "# read in the lookup table \n",
    "lookup_table = pd.read_excel(\"Road-Safety-Open-Dataset-Data-Guide.xlsx\")\n",
    "lookup_table.rename(columns = {'code/format':'code', 'field name':'field_name'}, inplace = True)\n",
    "lookup_table"
   ]
  },
  {
   "cell_type": "code",
   "execution_count": null,
   "id": "7a88a6e8",
   "metadata": {},
   "outputs": [],
   "source": [
    "# create dataframe specifically for the graphing, segment further for useful comparison bar charts\n",
    "casualty_class = casualties_concat_final[['accident_index', 'casualty_class']].copy()\n",
    "\n",
    "# create df of the appropriate look up \n",
    "class_lookup = lookup_table[['field_name', 'code', 'label']].query(\"field_name == 'casualty_class'\")\n",
    "\n",
    "# attach appropriate lookup so that codes are deciphered\n",
    "class_w_lookup = pd.merge(casualty_class, class_lookup, how='left', left_on = 'casualty_class', right_on ='code')\n",
    "\n",
    "# plot the data with the new label\n",
    "class_w_lookup['label'].value_counts().sort_index().plot(kind=\"bar\")\n",
    "\n",
    "\n",
    "plt.xticks(rotation=45)\n",
    "plt.xlabel(\"Casualty Class of Casualty\")\n",
    "plt.ylabel(\"Count\")\n",
    "\n",
    "plt.ylim(0, 350000)\n",
    "\n",
    "plt.savefig('casualty_class.jpeg', bbox_inches=\"tight\")"
   ]
  },
  {
   "cell_type": "code",
   "execution_count": null,
   "id": "540a5f8a",
   "metadata": {},
   "outputs": [],
   "source": [
    "# bar chart for counts where some counts are unpopulated"
   ]
  },
  {
   "cell_type": "code",
   "execution_count": null,
   "id": "3d37465b",
   "metadata": {},
   "outputs": [],
   "source": [
    "# number of casualties - what is defined as a casualty?\n",
    "plt.figure(figsize=(20,8))\n",
    "\n",
    "accident_num_casualties = accidents_concat[['accident_index', 'number_of_casualties']].copy()\n",
    "# accident_weather['weather_conditions'].value_counts()\n",
    "\n",
    "# # # \n",
    "# use this to get the empty counts\n",
    "# # #\n",
    "accident_num_casualties = accident_num_casualties['number_of_casualties'].value_counts().\\\n",
    "                         reindex(range(accident_num_casualties['number_of_casualties'].min(), accident_num_casualties['number_of_casualties'].max()+1), fill_value=0)\\\n",
    "                         .reset_index()\n",
    "\n",
    "ax = sns.barplot(x='index', y = 'number_of_casualties', data = accident_num_casualties)\n",
    "ax.set(xlabel = 'number of casualties', ylabel = \"count\")\n",
    "\n",
    "plt.xticks(rotation=45)\n",
    "plt.savefig('17_19_num_cas.jpeg', bbox_inches=\"tight\")"
   ]
  },
  {
   "cell_type": "markdown",
   "id": "2327a35f",
   "metadata": {},
   "source": [
    "# plotting longitudes and latitudes"
   ]
  },
  {
   "cell_type": "code",
   "execution_count": null,
   "id": "73ddb712",
   "metadata": {},
   "outputs": [],
   "source": [
    "import geopandas\n",
    "import folium\n",
    "\n",
    "from folium import plugins\n",
    "from folium.plugins import HeatMap"
   ]
  },
  {
   "cell_type": "code",
   "execution_count": null,
   "id": "6ae505df",
   "metadata": {},
   "outputs": [],
   "source": [
    "# Ensure you're handing it floats\n",
    "acci_map = accidents_concat[[\"accident_index\", \"longitude\", \"latitude\", \"accident_severity\"]].query(\"accident_severity == 1\").copy()\n",
    "\n",
    "acci_map['latitude'] = acci_map['latitude'].astype(float)\n",
    "acci_map['longitude'] = acci_map['longitude'].astype(float)\n",
    "\n",
    "acci_map = acci_map[['latitude', 'longitude']]\n",
    "acci_map = acci_map.dropna(axis=0, subset=['latitude','longitude'])\n",
    "\n",
    "# List of latitudes and longitude needed\n",
    "acci_map = [[row['latitude'],row['longitude']] for index, row in acci_map.iterrows()]\n",
    "\n",
    "# what is this?\n",
    "# heat_data = [[point.xy[1][0], point.xy[0][0]] for point in geo_df.geometry]\n",
    "\n",
    "# Plot it on the map\n",
    "traffic_map = folium.Map(location=acci_map[0], zoom_start = 13) \n",
    "HeatMap(acci_map).add_to(traffic_map)\n",
    "# traffic_map.save('cycalist_traffic_map.html')\n",
    "\n",
    "# display the map\n",
    "traffic_map"
   ]
  },
  {
   "cell_type": "code",
   "execution_count": null,
   "id": "6888cdb6",
   "metadata": {},
   "outputs": [],
   "source": []
  },
  {
   "cell_type": "code",
   "execution_count": null,
   "id": "34292ee4",
   "metadata": {},
   "outputs": [],
   "source": []
  },
  {
   "cell_type": "code",
   "execution_count": null,
   "id": "8b60819a",
   "metadata": {},
   "outputs": [],
   "source": []
  },
  {
   "cell_type": "code",
   "execution_count": null,
   "id": "3ef5e1d5",
   "metadata": {},
   "outputs": [],
   "source": []
  },
  {
   "cell_type": "code",
   "execution_count": null,
   "id": "86746856",
   "metadata": {},
   "outputs": [],
   "source": []
  },
  {
   "cell_type": "code",
   "execution_count": null,
   "id": "2ec8fd7c",
   "metadata": {},
   "outputs": [],
   "source": []
  },
  {
   "cell_type": "code",
   "execution_count": null,
   "id": "afc9c448",
   "metadata": {},
   "outputs": [],
   "source": []
  },
  {
   "cell_type": "code",
   "execution_count": null,
   "id": "9f935ccf",
   "metadata": {},
   "outputs": [],
   "source": []
  },
  {
   "cell_type": "code",
   "execution_count": null,
   "id": "0b742ce3",
   "metadata": {},
   "outputs": [],
   "source": []
  },
  {
   "cell_type": "code",
   "execution_count": null,
   "id": "12173005",
   "metadata": {},
   "outputs": [],
   "source": []
  }
 ],
 "metadata": {
  "kernelspec": {
   "display_name": "Python 3",
   "language": "python",
   "name": "python3"
  },
  "language_info": {
   "codemirror_mode": {
    "name": "ipython",
    "version": 3
   },
   "file_extension": ".py",
   "mimetype": "text/x-python",
   "name": "python",
   "nbconvert_exporter": "python",
   "pygments_lexer": "ipython3",
   "version": "3.8.8"
  }
 },
 "nbformat": 4,
 "nbformat_minor": 5
}
